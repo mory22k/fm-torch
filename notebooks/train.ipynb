{
 "cells": [
  {
   "cell_type": "code",
   "execution_count": 1,
   "id": "aa248716",
   "metadata": {},
   "outputs": [],
   "source": [
    "import torch\n",
    "from torch import nn, optim\n",
    "from torch.utils.data import DataLoader, TensorDataset\n",
    "\n",
    "from fm_torch import SecondOrderFactorizationMachine"
   ]
  },
  {
   "cell_type": "code",
   "execution_count": 2,
   "id": "d3e808d6",
   "metadata": {},
   "outputs": [],
   "source": [
    "def train(\n",
    "    model: nn.Module,\n",
    "    dataloader: DataLoader,\n",
    "    criterion: nn.Module,\n",
    "    optimizer: optim.Optimizer,\n",
    "    device: torch.device,\n",
    "):\n",
    "    \"\"\"Function to train the model for one epoch.\n",
    "\n",
    "    Args:\n",
    "        model (nn.Module): The model to be trained.\n",
    "        dataloader (DataLoader): DataLoader for the training data.\n",
    "        criterion (nn.Module): Loss function.\n",
    "        optimizer (optim.Optimizer): Optimization algorithm.\n",
    "        device (torch.device): Device to use (cpu or cuda).\n",
    "\n",
    "    Returns:\n",
    "        float: Average loss per epoch.\n",
    "    \"\"\"\n",
    "    model.train()\n",
    "    total_loss = 0.0\n",
    "    for x, y in dataloader:\n",
    "        x, y = x.to(device), y.to(device)\n",
    "        optimizer.zero_grad()\n",
    "        y_pred = model(x)\n",
    "        loss = criterion(y_pred, y)\n",
    "        loss.backward()\n",
    "        optimizer.step()\n",
    "        total_loss += loss.item() * x.size(0)\n",
    "    return total_loss / len(dataloader.dataset)"
   ]
  },
  {
   "cell_type": "code",
   "execution_count": 3,
   "id": "cc32c971",
   "metadata": {},
   "outputs": [],
   "source": [
    "dim_input = 10\n",
    "dim_factors = 5"
   ]
  },
  {
   "cell_type": "code",
   "execution_count": 4,
   "id": "578008ef",
   "metadata": {},
   "outputs": [],
   "source": [
    "true_w = torch.randn(dim_input)\n",
    "true_V = torch.randn(dim_input, dim_factors)\n",
    "\n",
    "train_X = torch.randn(1000, dim_input)\n",
    "with torch.no_grad():\n",
    "    q = train_X @ true_V\n",
    "    second_order = 0.5 * (q**2).sum(dim=1) - (train_X**2 @ true_V**2).sum(dim=1)\n",
    "    y = 1 + train_X @ true_w + second_order\n",
    "train_Y = y.view(-1)"
   ]
  },
  {
   "cell_type": "code",
   "execution_count": 5,
   "id": "fc7e8d90",
   "metadata": {},
   "outputs": [],
   "source": [
    "epochs = 2000  # エポック数\n",
    "batch_size = 64  # バッチサイズ\n",
    "device = torch.device(\"cuda\" if torch.cuda.is_available() else \"cpu\")\n",
    "\n",
    "dataset = TensorDataset(train_X, train_Y)\n",
    "dataloader = DataLoader(dataset, batch_size=batch_size, shuffle=True)\n",
    "\n",
    "model = SecondOrderFactorizationMachine(\n",
    "    dim_input=dim_input,\n",
    "    num_factors=dim_factors,\n",
    ").to(device)"
   ]
  },
  {
   "cell_type": "code",
   "execution_count": 6,
   "id": "b153a380",
   "metadata": {},
   "outputs": [
    {
     "name": "stdout",
     "output_type": "stream",
     "text": [
      "Epoch  100, Loss:  6.143e+02\n",
      "Epoch  200, Loss:  5.140e+02\n",
      "Epoch  300, Loss:  4.529e+02\n",
      "Epoch  400, Loss:  4.007e+02\n",
      "Epoch  500, Loss:  3.532e+02\n",
      "Epoch  600, Loss:  3.120e+02\n",
      "Epoch  700, Loss:  2.768e+02\n",
      "Epoch  800, Loss:  2.464e+02\n",
      "Epoch  900, Loss:  2.202e+02\n",
      "Epoch 1000, Loss:  1.978e+02\n",
      "Epoch 1100, Loss:  1.789e+02\n",
      "Epoch 1200, Loss:  1.631e+02\n",
      "Epoch 1300, Loss:  1.499e+02\n",
      "Epoch 1400, Loss:  1.392e+02\n",
      "Epoch 1500, Loss:  1.315e+02\n",
      "Epoch 1600, Loss:  1.265e+02\n",
      "Epoch 1700, Loss:  1.236e+02\n",
      "Epoch 1800, Loss:  1.221e+02\n",
      "Epoch 1900, Loss:  1.215e+02\n",
      "Epoch 2000, Loss:  1.213e+02\n"
     ]
    }
   ],
   "source": [
    "dataset = TensorDataset(train_X, train_Y)\n",
    "dataloader = DataLoader(dataset, batch_size=batch_size, shuffle=True)\n",
    "\n",
    "model = SecondOrderFactorizationMachine(dim_input, dim_factors).to(device)\n",
    "criterion = nn.MSELoss()\n",
    "optimizer = optim.AdamW(model.parameters())\n",
    "\n",
    "for epoch in range(1, epochs + 1):\n",
    "    loss = train(model, dataloader, criterion, optimizer, device)\n",
    "    if epoch % 100 == 0:\n",
    "        print(f\"Epoch {epoch:4d}, Loss: {loss:10.3e}\")"
   ]
  }
 ],
 "metadata": {
  "kernelspec": {
   "display_name": ".venv",
   "language": "python",
   "name": "python3"
  },
  "language_info": {
   "codemirror_mode": {
    "name": "ipython",
    "version": 3
   },
   "file_extension": ".py",
   "mimetype": "text/x-python",
   "name": "python",
   "nbconvert_exporter": "python",
   "pygments_lexer": "ipython3",
   "version": "3.13.2"
  }
 },
 "nbformat": 4,
 "nbformat_minor": 5
}
